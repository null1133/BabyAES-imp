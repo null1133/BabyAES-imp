{
 "cells": [
  {
   "cell_type": "code",
   "execution_count": 2,
   "metadata": {},
   "outputs": [],
   "source": [
    "import numpy as np\n",
    "from scipy.special import erfc\n",
    "import random"
   ]
  },
  {
   "cell_type": "code",
   "execution_count": null,
   "metadata": {},
   "outputs": [],
   "source": [
    "class BabyAES:\n",
    "    S_BOX = {\n",
    "        '0': 'a', '1': '4', '2': '3', '3': 'b',\n",
    "        '4': '8', '5': 'e', '6': '2', '7': 'c',\n",
    "        '8': '5', '9': '7', 'a': '6', 'b': 'f',\n",
    "        'c': '0', 'd': '1', 'e': '9', 'f': 'd'\n",
    "    }\n",
    "\n",
    "    MIX_COLUMNS_MATRIX = np.array([\n",
    "        [1, 0, 1, 0, 0, 0, 1, 1],\n",
    "        [1, 1, 0, 1, 0, 0, 0, 1],\n",
    "        [1, 1, 1, 0, 1, 0, 0, 0],\n",
    "        [0, 1, 0, 1, 0, 1, 1, 1],\n",
    "        [0, 0, 1, 1, 1, 0, 1, 0],\n",
    "        [0, 0, 0, 1, 1, 1, 0, 1],\n",
    "        [1, 0, 0, 0, 1, 1, 1, 0],\n",
    "        [0, 1, 1, 1, 0, 1, 0, 1]\n",
    "    ])\n",
    "\n",
    "\n",
    "    def __init__(self, key):\n",
    "        self.key = self.split_key_into_nibbles(key)  \n",
    "        self.round_keys = self.generate_round_keys()\n",
    "\n",
    "    def split_key_into_nibbles(self, key):\n",
    "        return [int(x, 16) for x in f\"{key:04x}\"]  \n",
    "\n",
    "    \n",
    "    def substitute(self, state):\n",
    "        return [int(self.S_BOX[hex(s)[2:]], 16) for s in state]\n",
    "\n",
    "    def reverse(self,pair):\n",
    "        return [pair[1], pair[0]]\n",
    "    \n",
    "    def generate_yi(self, i):\n",
    "        power = (2**(i-1)) & 0xF  \n",
    "        return [power, 0]\n",
    "\n",
    "    def generate_round_keys(self):\n",
    "        w = [\n",
    "            [self.key[0], self.key[1]],  # w0\n",
    "            [self.key[2], self.key[3]]   # w1\n",
    "        ]\n",
    "\n",
    "        for i in range(1, 5):  # Generate w2, w3, w4, w5, w6, w7, w8, w9\n",
    "            w2i = [w[2*i - 2][j] ^ self.substitute([self.reverse(w[2*i - 1])[j]])[0] ^ self.generate_yi(i)[j]\n",
    "                for j in range(2)]\n",
    "            w2i1 = [w[2*i - 1][j] ^ w2i[j] for j in range(2)]\n",
    "            w.append(w2i)\n",
    "            w.append(w2i1)\n",
    "\n",
    "        round_keys = [w[i] + w[i+1] for i in range(0, 10, 2)]\n",
    "        # print(round_keys)\n",
    "        return round_keys\n",
    "\n",
    "    def mix_columns(self, state):\n",
    "        binary_matrix = np.zeros((8, 2), dtype=int)  \n",
    "        for row in range(2):  \n",
    "            for col in range(2):  \n",
    "                nibble = state[row][col]  \n",
    "                binary = format(nibble, '04b')  \n",
    "                for bit in range(4):  \n",
    "                    binary_matrix[bit + row * 4][col] = int(binary[bit])  \n",
    "        mixed = np.dot(self.MIX_COLUMNS_MATRIX, binary_matrix) % 2  \n",
    "        return mixed\n",
    "\n",
    "    \n",
    "\n",
    "    def shift_rows(self, matrix):\n",
    "        return [[matrix[0][0], matrix[1][0]], [matrix[1][1], matrix[0][1]]]\n",
    "\n",
    "    def add_round_key(self, state, round_key):\n",
    "        return [s ^ r for s, r in zip(state, round_key)]\n",
    "    \n",
    "    \n",
    "\n",
    "    def binary_to_hex_list(self, binary_list):\n",
    "        bList=[]\n",
    "        for i in range(len(binary_list)):\n",
    "            bList.append(int(\"\".join(map(str, list(binary_list[i]))), 2))\n",
    "\n",
    "        return [int(hex(num), 16) for num in bList]\n",
    "\n",
    "    def encrypt(self, plaintext):\n",
    "        state = plaintext\n",
    "        state = self.add_round_key(state, self.round_keys[0])\n",
    "\n",
    "        for i in range(3):\n",
    "            state = self.substitute(state)\n",
    "            \n",
    "            matrix = [[state[0], state[2]], [state[1], state[3]]]\n",
    "            matrix = self.shift_rows(matrix)\n",
    "            \n",
    "            matrix = self.mix_columns(matrix)\n",
    "            state_after_mix=[]\n",
    "            state_after_mix.append(matrix[:4, 0])\n",
    "            state_after_mix.append(matrix[4:8, 0])\n",
    "            state_after_mix.append(matrix[4:8, 1])\n",
    "            state_after_mix.append(matrix[:4, 1])\n",
    "            state = self.binary_to_hex_list(state_after_mix)\n",
    "            \n",
    "            state = self.add_round_key(state, self.round_keys[i+1])\n",
    "           \n",
    "\n",
    "        # Final round (no mix_columns)\n",
    "        state = self.substitute(state)\n",
    "        \n",
    "        matrix = [[state[0], state[2]], [state[1], state[3]]]\n",
    "        matrix = self.shift_rows(matrix)\n",
    "        \n",
    "        state = [matrix[0][0], matrix[1][0], matrix[1][1], matrix[0][1]]\n",
    "        \n",
    "        state = self.add_round_key(state, self.round_keys[4])\n",
    "        \n",
    "\n",
    "        return state\n",
    "    \n",
    "    def encrypt_cbc(self, plaintext_blocks, iv):\n",
    "\n",
    "        ciphertext_blocks = []\n",
    "        prev_ciphertext = [(iv >> i) & 0xF for i in range(12, -1, -4)]  # Convert IV to nibbles\n",
    "\n",
    "        for plaintext in plaintext_blocks:\n",
    "            # XOR plaintext with previous ciphertext (or IV for first block)\n",
    "            xor_input = [p ^ c for p, c in zip(plaintext, prev_ciphertext)]\n",
    "            ciphertext = self.encrypt(xor_input)\n",
    "            ciphertext_blocks.append(ciphertext)\n",
    "\n",
    "            prev_ciphertext = ciphertext  # Update for next block\n",
    "\n",
    "        return ciphertext_blocks\n",
    "\n",
    "\n"
   ]
  },
  {
   "cell_type": "code",
   "execution_count": 22,
   "metadata": {},
   "outputs": [
    {
     "name": "stdout",
     "output_type": "stream",
     "text": [
      "Plaintext: ['0x2', '0xc', '0xa', '0x5']\n",
      "Key: ['0x6', '0xb', '0x5', '0xd']\n",
      "Ciphertext: ['0x6', '0x8', '0x5', '0x5']\n"
     ]
    }
   ],
   "source": [
    "key = 0x6b5d\n",
    "plaintext = [0x2, 0xc, 0xa, 0x5]\n",
    "\n",
    "baby_aes = BabyAES(key)\n",
    "ciphertext = baby_aes.encrypt(plaintext)\n",
    "\n",
    "print(\"Plaintext:\", [hex(x) for x in plaintext])\n",
    "print(\"Key:\", [hex(x) for x in baby_aes.key])\n",
    "print(\"Ciphertext:\", [hex(x) for x in ciphertext])"
   ]
  },
  {
   "cell_type": "code",
   "execution_count": 23,
   "metadata": {},
   "outputs": [
    {
     "name": "stdout",
     "output_type": "stream",
     "text": [
      "Completeness Test Result: 48.44%\n"
     ]
    }
   ],
   "source": [
    "def completeness_test(plaintext, key):\n",
    "\n",
    "    baby_aes = BabyAES(key)  \n",
    "    original_ciphertext = baby_aes.encrypt(plaintext)\n",
    "\n",
    "    total_bits = len(original_ciphertext) * 4 \n",
    "    total_flips = 0  \n",
    "    total_changed_bits = 0 \n",
    "\n",
    "    for i in range(len(plaintext)):  \n",
    "        for j in range(4):  \n",
    "            flipped_plaintext = list(plaintext)  \n",
    "            flipped_plaintext[i] ^= (1 << j)  \n",
    "\n",
    "            new_ciphertext = baby_aes.encrypt(flipped_plaintext)\n",
    "\n",
    "            changed_bits = sum(bin(c1 ^ c2).count('1') for c1, c2 in zip(original_ciphertext, new_ciphertext))\n",
    "            total_changed_bits += changed_bits\n",
    "            total_flips += 1\n",
    "\n",
    "    # Calculate the average percentage of ciphertext bits affected\n",
    "    avg_percentage = (total_changed_bits / (total_flips * total_bits)) * 100 if total_flips > 0 else 0\n",
    "    \n",
    "    return avg_percentage\n",
    "\n",
    "\n",
    "\n",
    "completeness = completeness_test(plaintext, key)\n",
    "print(f\"Completeness Test Result: {completeness:.2f}%\")"
   ]
  },
  {
   "cell_type": "code",
   "execution_count": 24,
   "metadata": {},
   "outputs": [
    {
     "name": "stdout",
     "output_type": "stream",
     "text": [
      "Flipping bit 0 of plaintext[0] changed ciphertext:\n",
      "  Ciphertext Byte 0: 0110 -> 0101\n",
      "  Ciphertext Byte 1: 1000 -> 0011\n",
      "  Ciphertext Byte 2: 0101 -> 0011\n",
      "  Ciphertext Byte 3: 0101 -> 0101\n",
      "Flipping bit 1 of plaintext[0] changed ciphertext:\n",
      "  Ciphertext Byte 0: 0110 -> 0000\n",
      "  Ciphertext Byte 1: 1000 -> 1010\n",
      "  Ciphertext Byte 2: 0101 -> 1011\n",
      "  Ciphertext Byte 3: 0101 -> 0101\n",
      "Flipping bit 2 of plaintext[0] changed ciphertext:\n",
      "  Ciphertext Byte 0: 0110 -> 1010\n",
      "  Ciphertext Byte 1: 1000 -> 0101\n",
      "  Ciphertext Byte 2: 0101 -> 1001\n",
      "  Ciphertext Byte 3: 0101 -> 0110\n",
      "Flipping bit 3 of plaintext[0] changed ciphertext:\n",
      "  Ciphertext Byte 0: 0110 -> 0010\n",
      "  Ciphertext Byte 1: 1000 -> 1111\n",
      "  Ciphertext Byte 2: 0101 -> 0011\n",
      "  Ciphertext Byte 3: 0101 -> 0110\n",
      "Flipping bit 0 of plaintext[1] changed ciphertext:\n",
      "  Ciphertext Byte 0: 0110 -> 1111\n",
      "  Ciphertext Byte 1: 1000 -> 1110\n",
      "  Ciphertext Byte 2: 0101 -> 0011\n",
      "  Ciphertext Byte 3: 0101 -> 0011\n",
      "Flipping bit 1 of plaintext[1] changed ciphertext:\n",
      "  Ciphertext Byte 0: 0110 -> 0110\n",
      "  Ciphertext Byte 1: 1000 -> 1001\n",
      "  Ciphertext Byte 2: 0101 -> 0100\n",
      "  Ciphertext Byte 3: 0101 -> 0111\n",
      "Flipping bit 2 of plaintext[1] changed ciphertext:\n",
      "  Ciphertext Byte 0: 0110 -> 0000\n",
      "  Ciphertext Byte 1: 1000 -> 1000\n",
      "  Ciphertext Byte 2: 0101 -> 1010\n",
      "  Ciphertext Byte 3: 0101 -> 1111\n",
      "Flipping bit 3 of plaintext[1] changed ciphertext:\n",
      "  Ciphertext Byte 0: 0110 -> 0000\n",
      "  Ciphertext Byte 1: 1000 -> 0000\n",
      "  Ciphertext Byte 2: 0101 -> 0000\n",
      "  Ciphertext Byte 3: 0101 -> 0010\n",
      "Flipping bit 0 of plaintext[2] changed ciphertext:\n",
      "  Ciphertext Byte 0: 0110 -> 1100\n",
      "  Ciphertext Byte 1: 1000 -> 0010\n",
      "  Ciphertext Byte 2: 0101 -> 0100\n",
      "  Ciphertext Byte 3: 0101 -> 1111\n",
      "Flipping bit 1 of plaintext[2] changed ciphertext:\n",
      "  Ciphertext Byte 0: 0110 -> 1110\n",
      "  Ciphertext Byte 1: 1000 -> 0011\n",
      "  Ciphertext Byte 2: 0101 -> 1110\n",
      "  Ciphertext Byte 3: 0101 -> 0101\n",
      "Flipping bit 2 of plaintext[2] changed ciphertext:\n",
      "  Ciphertext Byte 0: 0110 -> 0001\n",
      "  Ciphertext Byte 1: 1000 -> 1101\n",
      "  Ciphertext Byte 2: 0101 -> 1110\n",
      "  Ciphertext Byte 3: 0101 -> 0000\n",
      "Flipping bit 3 of plaintext[2] changed ciphertext:\n",
      "  Ciphertext Byte 0: 0110 -> 0110\n",
      "  Ciphertext Byte 1: 1000 -> 0111\n",
      "  Ciphertext Byte 2: 0101 -> 1001\n",
      "  Ciphertext Byte 3: 0101 -> 0001\n",
      "Flipping bit 0 of plaintext[3] changed ciphertext:\n",
      "  Ciphertext Byte 0: 0110 -> 0011\n",
      "  Ciphertext Byte 1: 1000 -> 1111\n",
      "  Ciphertext Byte 2: 0101 -> 1010\n",
      "  Ciphertext Byte 3: 0101 -> 1101\n",
      "Flipping bit 1 of plaintext[3] changed ciphertext:\n",
      "  Ciphertext Byte 0: 0110 -> 0010\n",
      "  Ciphertext Byte 1: 1000 -> 1100\n",
      "  Ciphertext Byte 2: 0101 -> 0100\n",
      "  Ciphertext Byte 3: 0101 -> 1000\n",
      "Flipping bit 2 of plaintext[3] changed ciphertext:\n",
      "  Ciphertext Byte 0: 0110 -> 0000\n",
      "  Ciphertext Byte 1: 1000 -> 0111\n",
      "  Ciphertext Byte 2: 0101 -> 0100\n",
      "  Ciphertext Byte 3: 0101 -> 1000\n",
      "Flipping bit 3 of plaintext[3] changed ciphertext:\n",
      "  Ciphertext Byte 0: 0110 -> 1101\n",
      "  Ciphertext Byte 1: 1000 -> 1111\n",
      "  Ciphertext Byte 2: 0101 -> 0010\n",
      "  Ciphertext Byte 3: 0101 -> 0111\n",
      "Avalanche Effect: 7.75average bits changed\n"
     ]
    }
   ],
   "source": [
    "def hamming_distance(a, b):\n",
    "    return bin(a ^ b).count('1')\n",
    "\n",
    "def avalanche_test(plaintext, key):\n",
    "    baby_aes = BabyAES(key)\n",
    "    reference_ciphertext = baby_aes.encrypt(plaintext)  \n",
    "\n",
    "    total_flips = 0\n",
    "    total_changed_bits = 0\n",
    "\n",
    "    for i in range(len(plaintext)):\n",
    "        for j in range(4):  \n",
    "            flipped_plaintext = plaintext.copy()\n",
    "            flipped_plaintext[i] ^= (1 << j)  \n",
    "\n",
    "            new_ciphertext = baby_aes.encrypt(flipped_plaintext)  \n",
    "            changed_bits = sum(hamming_distance(c1, c2) for c1, c2 in zip(reference_ciphertext, new_ciphertext))\n",
    "\n",
    "            print(f\"Flipping bit {j} of plaintext[{i}] changed ciphertext:\")\n",
    "            for index, (c1, c2) in enumerate(zip(reference_ciphertext, new_ciphertext)):\n",
    "                print(f\"  Ciphertext Byte {index}: {bin(c1)[2:].zfill(4)} -> {bin(c2)[2:].zfill(4)}\")\n",
    "\n",
    "            total_changed_bits += changed_bits\n",
    "            total_flips += 1\n",
    "\n",
    "    return (total_changed_bits / total_flips)\n",
    "\n",
    "avg_bits_changed = avalanche_test(plaintext, key)\n",
    "print(f\"Avalanche Effect: {avg_bits_changed}average bits changed\")\n"
   ]
  },
  {
   "cell_type": "code",
   "execution_count": null,
   "metadata": {},
   "outputs": [
    {
     "name": "stdout",
     "output_type": "stream",
     "text": [
      "Strict Avalanche Test Results:\n",
      "Ciphertext bit 0: 31.25% flip probability\n",
      "Ciphertext bit 1: 50.00% flip probability\n",
      "Ciphertext bit 2: 56.25% flip probability\n",
      "Ciphertext bit 3: 31.25% flip probability\n",
      "Ciphertext bit 4: 62.50% flip probability\n",
      "Ciphertext bit 5: 62.50% flip probability\n",
      "Ciphertext bit 6: 56.25% flip probability\n",
      "Ciphertext bit 7: 43.75% flip probability\n",
      "Ciphertext bit 8: 62.50% flip probability\n",
      "Ciphertext bit 9: 56.25% flip probability\n",
      "Ciphertext bit 10: 62.50% flip probability\n",
      "Ciphertext bit 11: 43.75% flip probability\n",
      "Ciphertext bit 12: 37.50% flip probability\n",
      "Ciphertext bit 13: 50.00% flip probability\n",
      "Ciphertext bit 14: 37.50% flip probability\n",
      "Ciphertext bit 15: 31.25% flip probability\n",
      "SAC Satisfied: False\n"
     ]
    }
   ],
   "source": [
    "def strict_avalanche_test(plaintext, key):\n",
    "    baby_aes = BabyAES(key)\n",
    "    reference_ciphertext = baby_aes.encrypt(plaintext)\n",
    "    \n",
    "    ciphertext_bit_length = len(reference_ciphertext) * 4  \n",
    "    plaintext_bit_length = len(plaintext) * 4  \n",
    "\n",
    "    bit_flip_counts = [0] * ciphertext_bit_length  \n",
    "    total_flips = plaintext_bit_length  \n",
    "\n",
    "    for i in range(len(plaintext)):\n",
    "        for j in range(4):  \n",
    "            flipped_plaintext = plaintext.copy()\n",
    "            flipped_plaintext[i] ^= (1 << j)  \n",
    "\n",
    "            new_ciphertext = baby_aes.encrypt(flipped_plaintext)\n",
    "\n",
    "            for byte_idx in range(len(reference_ciphertext)):\n",
    "                for bit_idx in range(4):  \n",
    "                    ref_bit = (reference_ciphertext[byte_idx] >> bit_idx) & 1\n",
    "                    new_bit = (new_ciphertext[byte_idx] >> bit_idx) & 1\n",
    "                    if ref_bit != new_bit:  \n",
    "                        bit_flip_counts[byte_idx * 4 + bit_idx] += 1  \n",
    "\n",
    "    flip_probabilities = [count / total_flips for count in bit_flip_counts]\n",
    "\n",
    "    \n",
    "    print(\"Strict Avalanche Test Results:\")\n",
    "    for idx, prob in enumerate(flip_probabilities):\n",
    "        print(f\"Ciphertext bit {idx}: {prob:.2%} flip probability\")\n",
    "\n",
    "    sac_satisfied = all(48 <= (prob * 100) <= 52 for prob in flip_probabilities)  \n",
    "    return sac_satisfied, flip_probabilities\n",
    "\n",
    "sac_result, flip_probs = strict_avalanche_test(plaintext, key)\n",
    "print(f\"SAC Satisfied: {sac_result}\")\n"
   ]
  },
  {
   "cell_type": "code",
   "execution_count": 27,
   "metadata": {},
   "outputs": [],
   "source": [
    "class DatasetGenerator:\n",
    "    @staticmethod\n",
    "    def generate_random_binary(length=16):\n",
    "        return ''.join(random.choice('01') for _ in range(length))\n",
    "\n",
    "    @staticmethod\n",
    "    def generate_avalanche_plaintext(baby_aes, samples=10):\n",
    "        dataset = []\n",
    "        for _ in range(samples):\n",
    "            plaintext = random.getrandbits(16)  \n",
    "            flipped_plaintext = plaintext ^ (1 << random.randint(0, 15))  \n",
    "\n",
    "            plaintext_nibbles = [(plaintext >> i) & 0xF for i in range(12, -1, -4)]\n",
    "            flipped_nibbles = [(flipped_plaintext >> i) & 0xF for i in range(12, -1, -4)]\n",
    "\n",
    "            ciphertext1 = baby_aes.encrypt(plaintext_nibbles)\n",
    "            ciphertext2 = baby_aes.encrypt(flipped_nibbles)\n",
    "\n",
    "            ciphertext1_int = sum(c << (4 * i) for i, c in enumerate(reversed(ciphertext1)))\n",
    "            ciphertext2_int = sum(c << (4 * i) for i, c in enumerate(reversed(ciphertext2)))\n",
    "\n",
    "            dataset.append(f\"{ciphertext1_int ^ ciphertext2_int:016b}\")\n",
    "\n",
    "        return dataset\n",
    "\n",
    "\n",
    "    @staticmethod\n",
    "    def generate_avalanche_key(samples=10):\n",
    "        dataset = []\n",
    "        plaintext = random.getrandbits(16)\n",
    "\n",
    "        plaintext_nibbles = [(plaintext >> i) & 0xF for i in range(12, -1, -4)]\n",
    "\n",
    "        for _ in range(samples):\n",
    "            key = random.getrandbits(16)\n",
    "            flipped_key = key ^ (1 << random.randint(0, 15))\n",
    "\n",
    "            baby_aes1 = BabyAES(key)\n",
    "            baby_aes2 = BabyAES(flipped_key)\n",
    "\n",
    "            ciphertext1 = baby_aes1.encrypt(plaintext_nibbles)\n",
    "            ciphertext2 = baby_aes2.encrypt(plaintext_nibbles)\n",
    "\n",
    "            ciphertext1_int = sum(c << (4 * i) for i, c in enumerate(reversed(ciphertext1)))\n",
    "            ciphertext2_int = sum(c << (4 * i) for i, c in enumerate(reversed(ciphertext2)))\n",
    "\n",
    "            dataset.append(f\"{ciphertext1_int ^ ciphertext2_int:016b}\")\n",
    "\n",
    "        return dataset\n",
    "\n",
    "    \n",
    "    @staticmethod\n",
    "    def generate_plaintext_ciphertext_correlation(baby_aes, samples=10):\n",
    "        dataset = []\n",
    "        for _ in range(samples):\n",
    "            plaintext = random.getrandbits(16)\n",
    "\n",
    "            plaintext_nibbles = [(plaintext >> i) & 0xF for i in range(12, -1, -4)]\n",
    "            \n",
    "            ciphertext = baby_aes.encrypt(plaintext_nibbles)\n",
    "\n",
    "            ciphertext_int = sum(c << (4 * i) for i, c in enumerate(reversed(ciphertext)))\n",
    "\n",
    "            dataset.append(f\"{plaintext ^ ciphertext_int:016b}\")\n",
    "\n",
    "        return dataset\n",
    "\n",
    "\n",
    "    @staticmethod\n",
    "    def generate_cbc_mode(baby_aes, samples=10):\n",
    "        iv = random.getrandbits(16) \n",
    "        plaintext_blocks = [random.getrandbits(16) for _ in range(samples)]\n",
    "        \n",
    "        plaintext_nibbles = [[(p >> i) & 0xF for i in range(12, -1, -4)] for p in plaintext_blocks]\n",
    "\n",
    "        ciphertext_blocks = baby_aes.encrypt_cbc(plaintext_nibbles, iv)\n",
    "\n",
    "        return [f\"{sum(c << (4 * i) for i, c in enumerate(reversed(block))):016b}\" for block in ciphertext_blocks]\n",
    "\n",
    "\n",
    "    @staticmethod\n",
    "    def generate_random_dataset(samples=10):\n",
    "        return [DatasetGenerator.generate_random_binary(16) for _ in range(samples)]\n",
    "    \n",
    "    @staticmethod\n",
    "    def generate_low_density(samples=10):\n",
    "        return [\"0\" * 15 + \"1\" for _ in range(samples)]\n",
    "    \n",
    "    @staticmethod\n",
    "    def generate_high_density(samples=10):\n",
    "        return [\"1\" * 15 + \"0\" for _ in range(samples)]"
   ]
  },
  {
   "cell_type": "code",
   "execution_count": 28,
   "metadata": {},
   "outputs": [
    {
     "name": "stdout",
     "output_type": "stream",
     "text": [
      "Avalanche Plaintext Sample: 0101001000111011\n",
      "Avalanche Key Sample: 0010010100111111\n",
      "Plaintext-Ciphertext Correlation Sample: 1001010110000010\n",
      "Cipher Block Chaining Mode Sample: 0001010111010001\n",
      "Random Sample: 1101011011011011\n",
      "Low-Density with Plaintext Sample: 0000000000000001\n",
      "Low-Density with Key Sample: 0000000000000001\n",
      "High-Density with Plaintext Sample: 1111111111111110\n",
      "High-Density with Key Sample: 1111111111111110\n"
     ]
    }
   ],
   "source": [
    "\n",
    "key = 0x6b5d\n",
    "baby_aes = BabyAES(key)\n",
    "\n",
    "datasets = {\n",
    "    \"Avalanche Plaintext\": DatasetGenerator.generate_avalanche_plaintext(baby_aes),\n",
    "    \"Avalanche Key\": DatasetGenerator.generate_avalanche_key(),\n",
    "    \"Plaintext-Ciphertext Correlation\": DatasetGenerator.generate_plaintext_ciphertext_correlation(baby_aes),\n",
    "    \"Cipher Block Chaining Mode\": DatasetGenerator.generate_cbc_mode(baby_aes),\n",
    "    \"Random\": DatasetGenerator.generate_random_dataset(),\n",
    "    \"Low-Density with Plaintext\": DatasetGenerator.generate_low_density(),\n",
    "    \"Low-Density with Key\": DatasetGenerator.generate_low_density(),\n",
    "    \"High-Density with Plaintext\": DatasetGenerator.generate_high_density(),\n",
    "    \"High-Density with Key\": DatasetGenerator.generate_high_density(),\n",
    "}\n",
    "\n",
    "for name, dataset in datasets.items():\n",
    "    print(f\"{name} Sample: {dataset[0]}\")\n"
   ]
  },
  {
   "cell_type": "code",
   "execution_count": 29,
   "metadata": {},
   "outputs": [],
   "source": [
    "def monobit_test(dataset):\n",
    "\n",
    "    total_bits = 0\n",
    "    ones_count = 0\n",
    "\n",
    "    for binary_string in dataset:\n",
    "        ones_count += binary_string.count('1')  \n",
    "        total_bits += len(binary_string)  \n",
    "\n",
    "    \n",
    "    proportion_ones = ones_count / total_bits\n",
    "\n",
    "    # Check if proportion is within an acceptable range (typically 0.45 to 0.55)\n",
    "    lower_bound = 0.45  \n",
    "    upper_bound = 0.55  \n",
    "\n",
    "    test_passed = lower_bound <= proportion_ones <= upper_bound\n",
    "\n",
    "    return proportion_ones, test_passed\n"
   ]
  },
  {
   "cell_type": "code",
   "execution_count": 30,
   "metadata": {},
   "outputs": [
    {
     "name": "stdout",
     "output_type": "stream",
     "text": [
      "Monobit Test - Proportion of 1s: 0.4992\n",
      "Test Passed: Yes\n"
     ]
    }
   ],
   "source": [
    "avalanche_plaintext_dataset = DatasetGenerator.generate_avalanche_plaintext(baby_aes,samples=1000)  \n",
    "\n",
    "proportion, passed = monobit_test(avalanche_plaintext_dataset)\n",
    "\n",
    "print(f\"Monobit Test - Proportion of 1s: {proportion:.4f}\")\n",
    "print(f\"Test Passed: {'Yes' if passed else 'No'}\")\n"
   ]
  },
  {
   "cell_type": "code",
   "execution_count": 31,
   "metadata": {},
   "outputs": [
    {
     "name": "stdout",
     "output_type": "stream",
     "text": [
      "Monobit Test - Proportion of 1s: 0.5048\n",
      "Test Passed: Yes\n"
     ]
    }
   ],
   "source": [
    "avalanche_key_dataset = DatasetGenerator.generate_avalanche_key(samples=1000)  \n",
    "\n",
    "proportion, passed = monobit_test(avalanche_key_dataset)\n",
    "\n",
    "print(f\"Monobit Test - Proportion of 1s: {proportion:.4f}\")\n",
    "print(f\"Test Passed: {'Yes' if passed else 'No'}\")\n"
   ]
  },
  {
   "cell_type": "code",
   "execution_count": 32,
   "metadata": {},
   "outputs": [
    {
     "name": "stdout",
     "output_type": "stream",
     "text": [
      "Monobit Test - Proportion of 1s: 0.5022\n",
      "Test Passed: Yes\n"
     ]
    }
   ],
   "source": [
    "plaintext_ciphertext_correlation_dataset = DatasetGenerator.generate_plaintext_ciphertext_correlation(baby_aes, samples=1000)  \n",
    "\n",
    "proportion, passed = monobit_test(plaintext_ciphertext_correlation_dataset)\n",
    "\n",
    "print(f\"Monobit Test - Proportion of 1s: {proportion:.4f}\")\n",
    "print(f\"Test Passed: {'Yes' if passed else 'No'}\")\n"
   ]
  },
  {
   "cell_type": "code",
   "execution_count": 33,
   "metadata": {},
   "outputs": [
    {
     "name": "stdout",
     "output_type": "stream",
     "text": [
      "Monobit Test - Proportion of 1s: 0.4988\n",
      "Test Passed: Yes\n"
     ]
    }
   ],
   "source": [
    "cbc_mode_dataset = DatasetGenerator.generate_cbc_mode(baby_aes, samples=1000)  \n",
    "\n",
    "proportion, passed = monobit_test(cbc_mode_dataset)\n",
    "\n",
    "print(f\"Monobit Test - Proportion of 1s: {proportion:.4f}\")\n",
    "print(f\"Test Passed: {'Yes' if passed else 'No'}\")\n"
   ]
  },
  {
   "cell_type": "code",
   "execution_count": 34,
   "metadata": {},
   "outputs": [
    {
     "name": "stdout",
     "output_type": "stream",
     "text": [
      "Monobit Test - Proportion of 1s: 0.5026\n",
      "Test Passed: Yes\n"
     ]
    }
   ],
   "source": [
    "\n",
    "random_dataset = DatasetGenerator.generate_random_dataset(samples=1000)  \n",
    "\n",
    "proportion, passed = monobit_test(random_dataset)\n",
    "\n",
    "print(f\"Monobit Test - Proportion of 1s: {proportion:.4f}\")\n",
    "print(f\"Test Passed: {'Yes' if passed else 'No'}\")\n"
   ]
  },
  {
   "cell_type": "code",
   "execution_count": null,
   "metadata": {},
   "outputs": [],
   "source": [
    "def binary_data_to_hex_list(binary_str):\n",
    "    if len(binary_str) != 16 or not all(bit in '01' for bit in binary_str):\n",
    "        raise ValueError(\"Input must be a 16-bit binary string.\")\n",
    "    chunks = [binary_str[i:i+4] for i in range(0, 16, 4)]\n",
    "    hex_list = [int(chunk, 2) for chunk in chunks]\n",
    "\n",
    "    return hex_list"
   ]
  },
  {
   "cell_type": "code",
   "execution_count": null,
   "metadata": {},
   "outputs": [],
   "source": [
    "def hex_list_to_binary(hex_list):\n",
    "    if len(hex_list) != 4 or not all(isinstance(x, int) for x in hex_list):\n",
    "        raise ValueError(\"Input must be a list of 4 hexadecimal numbers (integers).\")\n",
    "    binary_str = \"\"\n",
    "    for hex_num in hex_list:\n",
    "        if hex_num < 0 or hex_num > 0xF:\n",
    "            raise ValueError(\"Hexadecimal numbers must be in the range 0x0 to 0xF.\")\n",
    "        \n",
    "        binary_str += f\"{hex_num:04b}\"\n",
    "\n",
    "    return binary_str"
   ]
  },
  {
   "cell_type": "code",
   "execution_count": 56,
   "metadata": {},
   "outputs": [
    {
     "name": "stdout",
     "output_type": "stream",
     "text": [
      "Monobit Test - Proportion of 1s: 0.3125\n",
      "Test Passed: No\n"
     ]
    }
   ],
   "source": [
    "low_density_dataset_plaintext = DatasetGenerator.generate_low_density(samples=1000)  \n",
    "low_density_plaintext_ciphertext = []\n",
    "monobit_test_low_density_plaintex = []\n",
    "for i in range(1000):\n",
    "    low_density_plaintext_ciphertext.append(baby_aes.encrypt(binary_data_to_hex_list(low_density_dataset_plaintext[i])))\n",
    "    monobit_test_low_density_plaintex.append(hex_list_to_binary(low_density_plaintext_ciphertext[i]))\n",
    "    \n",
    "proportion, passed = monobit_test(monobit_test_low_density_plaintex)\n",
    "\n",
    "print(f\"Monobit Test - Proportion of 1s: {proportion:.4f}\")\n",
    "print(f\"Test Passed: {'Yes' if passed else 'No'}\")\n"
   ]
  },
  {
   "cell_type": "code",
   "execution_count": 57,
   "metadata": {},
   "outputs": [
    {
     "name": "stdout",
     "output_type": "stream",
     "text": [
      "Monobit Test - Proportion of 1s: 0.5000\n",
      "Test Passed: Yes\n"
     ]
    }
   ],
   "source": [
    "high_density_dataset_plaintext = DatasetGenerator.generate_high_density(samples=1000)  \n",
    "high_density_plaintext_ciphertext = []\n",
    "monobit_test_high_density_plaintex = []\n",
    "for i in range(1000):\n",
    "    high_density_plaintext_ciphertext.append(baby_aes.encrypt(binary_data_to_hex_list(high_density_dataset_plaintext[i])))\n",
    "    monobit_test_high_density_plaintex.append(hex_list_to_binary(high_density_plaintext_ciphertext[i]))\n",
    "    \n",
    "proportion, passed = monobit_test(monobit_test_high_density_plaintex)\n",
    "\n",
    "print(f\"Monobit Test - Proportion of 1s: {proportion:.4f}\")\n",
    "print(f\"Test Passed: {'Yes' if passed else 'No'}\")\n"
   ]
  },
  {
   "cell_type": "code",
   "execution_count": null,
   "metadata": {},
   "outputs": [],
   "source": [
    "def binary_to_hex_key(binary_str):\n",
    "    if len(binary_str) != 16 or not all(bit in '01' for bit in binary_str):\n",
    "        raise ValueError(\"Input must be a 16-bit binary string.\")\n",
    "\n",
    "    hex_int = int(binary_str, 2)\n",
    "\n",
    "    return hex_int"
   ]
  },
  {
   "cell_type": "code",
   "execution_count": 73,
   "metadata": {},
   "outputs": [
    {
     "name": "stdout",
     "output_type": "stream",
     "text": [
      "Monobit Test - Proportion of 1s: 0.8750\n",
      "Test Passed: No\n"
     ]
    }
   ],
   "source": [
    "low_density_key = DatasetGenerator.generate_low_density(samples=1000)  \n",
    "low_density_key_ciphertext = []\n",
    "monobit_test_low_density_key = []\n",
    "baby_aes_list = []\n",
    "for i in range(1000):\n",
    "\n",
    "    baby_aes_list.append(BabyAES(binary_to_hex_key(low_density_key[i])))\n",
    "    low_density_key_ciphertext.append(baby_aes_list[i].encrypt(plaintext))\n",
    "    monobit_test_low_density_key.append(hex_list_to_binary(low_density_key_ciphertext[i]))\n",
    "    \n",
    "proportion, passed = monobit_test(monobit_test_low_density_key)\n",
    "\n",
    "print(f\"Monobit Test - Proportion of 1s: {proportion:.4f}\")\n",
    "print(f\"Test Passed: {'Yes' if passed else 'No'}\")"
   ]
  },
  {
   "cell_type": "code",
   "execution_count": 74,
   "metadata": {},
   "outputs": [
    {
     "name": "stdout",
     "output_type": "stream",
     "text": [
      "Monobit Test - Proportion of 1s: 0.3750\n",
      "Test Passed: No\n"
     ]
    }
   ],
   "source": [
    "high_density_key = DatasetGenerator.generate_high_density(samples=1000)  \n",
    "high_density_key_ciphertext = []\n",
    "monobit_test_high_density_key = []\n",
    "baby_aes1_list = []\n",
    "for i in range(1000):\n",
    "\n",
    "    baby_aes1_list.append(BabyAES(binary_to_hex_key(high_density_key[i])))\n",
    "    high_density_key_ciphertext.append(baby_aes1_list[i].encrypt(plaintext))\n",
    "    monobit_test_high_density_key.append(hex_list_to_binary(high_density_key_ciphertext[i]))\n",
    "    \n",
    "proportion, passed = monobit_test(monobit_test_high_density_key)\n",
    "\n",
    "print(f\"Monobit Test - Proportion of 1s: {proportion:.4f}\")\n",
    "print(f\"Test Passed: {'Yes' if passed else 'No'}\")"
   ]
  }
 ],
 "metadata": {
  "kernelspec": {
   "display_name": "Python 3",
   "language": "python",
   "name": "python3"
  },
  "language_info": {
   "codemirror_mode": {
    "name": "ipython",
    "version": 3
   },
   "file_extension": ".py",
   "mimetype": "text/x-python",
   "name": "python",
   "nbconvert_exporter": "python",
   "pygments_lexer": "ipython3",
   "version": "3.12.2"
  }
 },
 "nbformat": 4,
 "nbformat_minor": 2
}
